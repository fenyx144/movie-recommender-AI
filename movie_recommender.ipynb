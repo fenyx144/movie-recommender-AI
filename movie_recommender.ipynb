{
  "nbformat": 4,
  "nbformat_minor": 0,
  "metadata": {
    "colab": {
      "provenance": []
    },
    "kernelspec": {
      "name": "python3",
      "display_name": "Python 3"
    },
    "language_info": {
      "name": "python"
    }
  },
  "cells": [
    {
      "cell_type": "code",
      "execution_count": null,
      "metadata": {
        "colab": {
          "base_uri": "https://localhost:8080/"
        },
        "id": "QflghqoPRq6N",
        "outputId": "81b6bbbc-9f6f-4338-848e-98988884e75b"
      },
      "outputs": [
        {
          "output_type": "stream",
          "name": "stdout",
          "text": [
            "Requirement already satisfied: scikit-learn in /usr/local/lib/python3.10/dist-packages (1.5.2)\n",
            "Requirement already satisfied: pandas in /usr/local/lib/python3.10/dist-packages (2.2.2)\n",
            "Requirement already satisfied: nltk in /usr/local/lib/python3.10/dist-packages (3.9.1)\n",
            "Requirement already satisfied: numpy>=1.19.5 in /usr/local/lib/python3.10/dist-packages (from scikit-learn) (1.26.4)\n",
            "Requirement already satisfied: scipy>=1.6.0 in /usr/local/lib/python3.10/dist-packages (from scikit-learn) (1.13.1)\n",
            "Requirement already satisfied: joblib>=1.2.0 in /usr/local/lib/python3.10/dist-packages (from scikit-learn) (1.4.2)\n",
            "Requirement already satisfied: threadpoolctl>=3.1.0 in /usr/local/lib/python3.10/dist-packages (from scikit-learn) (3.5.0)\n",
            "Requirement already satisfied: python-dateutil>=2.8.2 in /usr/local/lib/python3.10/dist-packages (from pandas) (2.8.2)\n",
            "Requirement already satisfied: pytz>=2020.1 in /usr/local/lib/python3.10/dist-packages (from pandas) (2024.2)\n",
            "Requirement already satisfied: tzdata>=2022.7 in /usr/local/lib/python3.10/dist-packages (from pandas) (2024.2)\n",
            "Requirement already satisfied: click in /usr/local/lib/python3.10/dist-packages (from nltk) (8.1.7)\n",
            "Requirement already satisfied: regex>=2021.8.3 in /usr/local/lib/python3.10/dist-packages (from nltk) (2024.9.11)\n",
            "Requirement already satisfied: tqdm in /usr/local/lib/python3.10/dist-packages (from nltk) (4.66.6)\n",
            "Requirement already satisfied: six>=1.5 in /usr/local/lib/python3.10/dist-packages (from python-dateutil>=2.8.2->pandas) (1.16.0)\n"
          ]
        }
      ],
      "source": [
        "!pip install scikit-learn pandas nltk\n"
      ]
    },
    {
      "cell_type": "code",
      "source": [
        "import pandas as pd\n",
        "\n",
        "# Cargar dataset\n",
        "df = pd.read_csv(\"tmdb_5000_movies.csv\")\n",
        "\n",
        "# Mantener solo las columnas necesarias\n",
        "df = df[['title', 'overview']]\n",
        "\n",
        "# Mostrar las primeras filas\n",
        "print(df.head())\n",
        "\n",
        "# Reemplazar valores nulos en 'overview' con una cadena vacía\n",
        "df['overview'] = df['overview'].fillna('')\n",
        "\n",
        "from sklearn.feature_extraction.text import TfidfVectorizer\n",
        "\n",
        "# Crear la matriz TF-IDF\n",
        "tfidf = TfidfVectorizer(stop_words='english')\n",
        "tfidf_matrix = tfidf.fit_transform(df['overview'])\n",
        "\n",
        "print(\"Matriz TF-IDF creada con dimensión:\", tfidf_matrix.shape)\n",
        "\n",
        "from sklearn.metrics.pairwise import cosine_similarity\n",
        "\n",
        "# Calcular similitud de coseno entre las películas\n",
        "cosine_sim = cosine_similarity(tfidf_matrix, tfidf_matrix)\n",
        "\n",
        "# Crear una serie para mapear índices a títulos y viceversa\n",
        "indices = pd.Series(df.index, index=df['title']).drop_duplicates()\n",
        "\n",
        "# Función de recomendación\n",
        "def recommend_movies(title, cosine_sim=cosine_sim):\n",
        "    if title not in indices:\n",
        "        return f\"La película '{title}' no está en la base de datos.\"\n",
        "\n",
        "    # Obtener índice de la película seleccionada\n",
        "    idx = indices[title]\n",
        "\n",
        "    # Obtenemos los puntajes de similitud de coseno de la película seleccionada con todas las demás\n",
        "    sim_scores = list(enumerate(cosine_sim[idx]))\n",
        "\n",
        "    # Ordenamos las películas por puntaje de similitud\n",
        "    sim_scores = sorted(sim_scores, key=lambda x: x[1], reverse=True)\n",
        "\n",
        "    # Obtenemos los índices de las 10 películas más similares\n",
        "    sim_scores = sim_scores[1:11]\n",
        "    movie_indices = [i[0] for i in sim_scores]\n",
        "\n",
        "    # Devolvemos los títulos de las películas similares\n",
        "    return df['title'].iloc[movie_indices]\n",
        "# Probar el recomendador\n",
        "print(\"Películas recomendadas para 'The Godfather':\\n\")\n",
        "print(recommend_movies(\"The Godfather\"))\n"
      ],
      "metadata": {
        "colab": {
          "base_uri": "https://localhost:8080/"
        },
        "id": "iKjDePIbJv8n",
        "outputId": "ae55b157-3875-44e3-bc81-87edef3ac4c6"
      },
      "execution_count": 3,
      "outputs": [
        {
          "output_type": "stream",
          "name": "stdout",
          "text": [
            "                                      title  \\\n",
            "0                                    Avatar   \n",
            "1  Pirates of the Caribbean: At World's End   \n",
            "2                                   Spectre   \n",
            "3                     The Dark Knight Rises   \n",
            "4                               John Carter   \n",
            "\n",
            "                                            overview  \n",
            "0  In the 22nd century, a paraplegic Marine is di...  \n",
            "1  Captain Barbossa, long believed to be dead, ha...  \n",
            "2  A cryptic message from Bond’s past sends him o...  \n",
            "3  Following the death of District Attorney Harve...  \n",
            "4  John Carter is a war-weary, former military ca...  \n",
            "Matriz TF-IDF creada con dimensión: (4803, 20978)\n",
            "Películas recomendadas para 'The Godfather':\n",
            "\n",
            "2731     The Godfather: Part II\n",
            "1873                 Blood Ties\n",
            "867     The Godfather: Part III\n",
            "3727                 Easy Money\n",
            "3623                       Made\n",
            "3125                     Eulogy\n",
            "3896                   Sinister\n",
            "4506            The Maid's Room\n",
            "3783                        Joe\n",
            "2244      The Cold Light of Day\n",
            "Name: title, dtype: object\n"
          ]
        }
      ]
    }
  ]
}